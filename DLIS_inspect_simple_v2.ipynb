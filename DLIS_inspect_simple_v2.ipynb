{
  "nbformat": 4,
  "nbformat_minor": 0,
  "metadata": {
    "colab": {
      "name": "DLIS_inspect_4.ipynb",
      "provenance": [],
      "collapsed_sections": [],
      "authorship_tag": "ABX9TyM9SQ9ASXgVhzUAA2/iyO6g",
      "include_colab_link": true
    },
    "kernelspec": {
      "name": "python3",
      "display_name": "Python 3"
    }
  },
  "cells": [
    {
      "cell_type": "markdown",
      "metadata": {
        "id": "view-in-github",
        "colab_type": "text"
      },
      "source": [
        "<a href=\"https://colab.research.google.com/github/jlrp132/Hands_on_dlis/blob/main/DLIS_inspect_simple_v2.ipynb\" target=\"_parent\"><img src=\"https://colab.research.google.com/assets/colab-badge.svg\" alt=\"Open In Colab\"/></a>"
      ]
    },
    {
      "cell_type": "code",
      "metadata": {
        "id": "LHpkJN181NM_"
      },
      "source": [
        "from google.colab import drive\r\n",
        "drive.mount('/content/drive')"
      ],
      "execution_count": null,
      "outputs": []
    },
    {
      "cell_type": "code",
      "metadata": {
        "id": "-TPvllJu3Qld"
      },
      "source": [
        "!pip install dlisio\r\n",
        "!pip install hvplot\r\n",
        "!pip install holoviews\r\n",
        "!pip install -U bokeh"
      ],
      "execution_count": null,
      "outputs": []
    },
    {
      "cell_type": "code",
      "metadata": {
        "id": "uqxbufUE3h2K"
      },
      "source": [
        "# filepath = r'/content/drive/MyDrive/Colab_Data/well_test.dlis'\r\n",
        "filepath = r'/content/drive/MyDrive/Colab_Data/CGC.LP.Te.x-1_COMBO.dls'"
      ],
      "execution_count": null,
      "outputs": []
    },
    {
      "cell_type": "code",
      "metadata": {
        "id": "rtczwB4U4fBK"
      },
      "source": [
        "import dlisio\r\n",
        "import pandas as pd\r\n",
        "import numpy as np\r\n",
        "import matplotlib.pyplot as plt\r\n",
        "import hvplot.pandas\r\n",
        "import holoviews as hv\r\n",
        "from holoviews import opts, streams\r\n",
        "from holoviews.plotting.links import DataLink\r\n",
        "hv.extension('bokeh', logo=None)\r\n",
        "\r\n",
        "import os\r\n",
        "\r\n",
        "os.environ['HV_DOC_HTML'] = 'true'"
      ],
      "execution_count": null,
      "outputs": []
    },
    {
      "cell_type": "code",
      "metadata": {
        "id": "XWDCOOmIgVXS"
      },
      "source": [
        "%matplotlib inline"
      ],
      "execution_count": null,
      "outputs": []
    },
    {
      "cell_type": "markdown",
      "metadata": {
        "id": "EyGa3ThN83QI"
      },
      "source": [
        "### Check for specific curve\r\n"
      ]
    },
    {
      "cell_type": "code",
      "metadata": {
        "id": "Nl34Sa5e4n8I"
      },
      "source": [
        "with dlisio.load(filepath) as file_:\r\n",
        "  for i in file_:\r\n",
        "    c = i.find('CHANNEL','TDEP')\r\n",
        "    for ch in c:\r\n",
        "      print(ch.name)\r\n",
        "      print(ch.curves())"
      ],
      "execution_count": null,
      "outputs": []
    },
    {
      "cell_type": "markdown",
      "metadata": {
        "id": "Cq5lTLgQ9ADX"
      },
      "source": [
        "### Check for internal Logical files"
      ]
    },
    {
      "cell_type": "code",
      "metadata": {
        "id": "WyX3oOct5PbZ"
      },
      "source": [
        "with dlisio.load(filepath) as (f):\r\n",
        "  print(f.describe())"
      ],
      "execution_count": null,
      "outputs": []
    },
    {
      "cell_type": "markdown",
      "metadata": {
        "id": "eICSXZBji5Ng"
      },
      "source": [
        "### Curves and Metadata"
      ]
    },
    {
      "cell_type": "code",
      "metadata": {
        "id": "Q49ApRzR5hGg"
      },
      "source": [
        "with dlisio.load(filepath) as (f):\r\n",
        "  for d in f:\r\n",
        "    for fr in d.frames:\r\n",
        "      print(fr.curves())"
      ],
      "execution_count": null,
      "outputs": []
    },
    {
      "cell_type": "code",
      "metadata": {
        "id": "UTM6UPEdBGeg"
      },
      "source": [
        "with dlisio.load(filepath) as (f):\r\n",
        "  for d in f:\r\n",
        "    print(d.describe())\r\n",
        "    for fr in d.frames:\r\n",
        "      print(fr.describe())"
      ],
      "execution_count": null,
      "outputs": []
    },
    {
      "cell_type": "markdown",
      "metadata": {
        "id": "0cVOzfLPmEw7"
      },
      "source": [
        "### Load Full DLIS File"
      ]
    },
    {
      "cell_type": "code",
      "metadata": {
        "id": "0Fi7LA13jF7Y"
      },
      "source": [
        "curve = []\r\n",
        "curve_name = []\r\n",
        "longs = []\r\n",
        "unit = []\r\n",
        "files = []\r\n",
        "files_num = []\r\n",
        "frames = []\r\n",
        "frames_num = []\r\n",
        "\r\n",
        "with dlisio.load(filepath) as f:\r\n",
        "  for d in f:\r\n",
        "    files.append(d)\r\n",
        "    for fr in d.frames:\r\n",
        "      frames.append(fr)\r\n",
        "      for c in d.channels:\r\n",
        "        curve_name.append(c.name)\r\n",
        "        longs.append(c.long_name)\r\n",
        "        unit.append(c.units)\r\n",
        "        files_num.append(len(files))\r\n",
        "        frames_num.append(len(frames))\r\n",
        "        cu = c.curves()\r\n",
        "        curve.append(cu)\r\n",
        "\r\n",
        "# with dlisio.load(filepath) as f:\r\n",
        "#   for d in f:\r\n",
        "#     files.append(d)\r\n",
        "#     for fr in range(1):\r\n",
        "#       frames.append(fr)\r\n",
        "#       for c in d.channels:\r\n",
        "#         curve_name.append(c.name)\r\n",
        "#         longs.append(c.long_name)\r\n",
        "#         unit.append(c.units)\r\n",
        "#         files_num.append(len(files))\r\n",
        "#         frames_num.append(len(frames))\r\n",
        "#         cu = c.curves()\r\n",
        "#         curve.append(cu)"
      ],
      "execution_count": null,
      "outputs": []
    },
    {
      "cell_type": "code",
      "metadata": {
        "id": "X8jyVl_TN2Vm"
      },
      "source": [
        "frames"
      ],
      "execution_count": null,
      "outputs": []
    },
    {
      "cell_type": "code",
      "metadata": {
        "id": "whJOEsAslNNQ"
      },
      "source": [
        "curve_idx = pd.DataFrame(\r\n",
        "    {'Curve': curve_name,\r\n",
        "     'Long': longs,\r\n",
        "     'Unit' : unit,\r\n",
        "     'Internal_File' : files_num,\r\n",
        "     'Frame_Number' : frames_num \r\n",
        "     })"
      ],
      "execution_count": null,
      "outputs": []
    },
    {
      "cell_type": "code",
      "metadata": {
        "id": "X_fL-e2Kl1Xv"
      },
      "source": [
        "curve_idx"
      ],
      "execution_count": null,
      "outputs": []
    },
    {
      "cell_type": "markdown",
      "metadata": {
        "id": "0i2mik9incFM"
      },
      "source": [
        "\r\n",
        "### Create a DataFrame with curves (some curves might contain multiple list)"
      ]
    },
    {
      "cell_type": "code",
      "metadata": {
        "id": "FytBkOz8mjD5"
      },
      "source": [
        "df = pd.DataFrame(data=curve, index=curve_name).T"
      ],
      "execution_count": null,
      "outputs": []
    },
    {
      "cell_type": "code",
      "metadata": {
        "id": "mxULOuNaLrrG"
      },
      "source": [
        "print(len(curve))\r\n",
        "print(len(curve_name))\r\n",
        "print(len(df))"
      ],
      "execution_count": null,
      "outputs": []
    },
    {
      "cell_type": "code",
      "metadata": {
        "id": "yM9QHzqFmx2R"
      },
      "source": [
        "# df.describe().transpose() # Might take long time\r\n",
        "# df.describe()             # Might take long time\r\n",
        "# df.drop(['TFGN00','TFST00','TFWV00','SGMA0','SGMA1','SGMA2','SGMA3','SGMA4','SGMA5'\t],axis=1, inplace=True)\r\n",
        "print('shape:', df.shape)\r\n",
        "print(df.GR)\r\n",
        "df.head()"
      ],
      "execution_count": null,
      "outputs": []
    },
    {
      "cell_type": "markdown",
      "metadata": {
        "id": "yhtZb72vrAvU"
      },
      "source": [
        "Process each 2D array into individual curve adding a suffix to the name and appending the df for the full dlis df"
      ]
    },
    {
      "cell_type": "code",
      "metadata": {
        "id": "ImlotbAvq_Tr"
      },
      "source": [
        "def df_column_uniquify(df):\r\n",
        "    df_columns = df.columns\r\n",
        "    new_columns = []\r\n",
        "    for item in df_columns:\r\n",
        "        counter = 0\r\n",
        "        newitem = item\r\n",
        "        while newitem in new_columns:\r\n",
        "            counter += 1\r\n",
        "            newitem = \"{}_{}\".format(item, counter)\r\n",
        "        new_columns.append(newitem)\r\n",
        "    df.columns = new_columns\r\n",
        "    return df"
      ],
      "execution_count": null,
      "outputs": []
    },
    {
      "cell_type": "code",
      "metadata": {
        "id": "ANuKPDsstB_H"
      },
      "source": [
        "curve_df = pd.DataFrame()\r\n",
        "name_index = 0\r\n",
        "for c in curve:\r\n",
        "    name = curve_name[name_index]\r\n",
        "    # print(name)\r\n",
        "    np.vstack(c)\r\n",
        "    try:\r\n",
        "        num_col = c.shape[1]\r\n",
        "        col_name = [name] * num_col\r\n",
        "        df = pd.DataFrame(data=c, columns=col_name)\r\n",
        "        name_index = name_index + 1\r\n",
        "        df = df_column_uniquify(df)\r\n",
        "        curve_df = pd.concat([curve_df, df], axis=1)\r\n",
        "    except:\r\n",
        "        num_col = 0\r\n",
        "        df = pd.DataFrame(data=c, columns=[name])\r\n",
        "        name_index = name_index + 1\r\n",
        "        curve_df = pd.concat([curve_df, df], axis=1)\r\n",
        "        continue\r\n",
        "\r\n",
        "curve_df.head()"
      ],
      "execution_count": null,
      "outputs": []
    },
    {
      "cell_type": "code",
      "metadata": {
        "id": "ZVRB0ulAoDzu"
      },
      "source": [
        "print(curve_df.TDEP.min())\r\n",
        "print(curve_df.TDEP.max())"
      ],
      "execution_count": null,
      "outputs": []
    },
    {
      "cell_type": "markdown",
      "metadata": {
        "id": "lEe7mYCLvuA6"
      },
      "source": [
        "### Plot"
      ]
    },
    {
      "cell_type": "code",
      "metadata": {
        "id": "SuSIe5IowTiO"
      },
      "source": [
        "curve_df = df_column_uniquify(curve_df)\r\n",
        "\r\n",
        "curve_df['DEPTH_calc'] = curve_df.loc[:,'TDEP']\r\n",
        "curve_df['DEPTH'] = curve_df['DEPTH_calc']\r\n",
        "\r\n",
        "curve_df = curve_df.set_index('DEPTH_calc')\r\n",
        "curve_df.index.names = [None]\r\n",
        "\r\n",
        "curve_df = curve_df.replace(-999.25, np.nan)\r\n",
        "min_val = curve_df['DEPTH'].min()\r\n",
        "max_val = curve_df['DEPTH'].max()\r\n",
        "curve_list = list(curve_df.columns)\r\n",
        "curve_list.remove('DEPTH')"
      ],
      "execution_count": null,
      "outputs": []
    },
    {
      "cell_type": "code",
      "metadata": {
        "id": "G4VQjd3RvsO9"
      },
      "source": [
        "def curve_plot(log, df, depth_name):\r\n",
        "  aplot = df.hvplot(x = depth_name, y=log, \r\n",
        "                    invert=True, flip_yaxis=True, \r\n",
        "                    shared_axes=True,\r\n",
        "                    height=600, width=300).opts(fontsize={'labels': 16,'xticks': 14, 'yticks': 14})\r\n",
        "  hv.extension('bokeh', logo=None)\r\n",
        "  return aplot;"
      ],
      "execution_count": null,
      "outputs": []
    },
    {
      "cell_type": "code",
      "metadata": {
        "id": "uBESC2Pw2Aow"
      },
      "source": [
        "log_selection = ['GR', 'SP', 'PE', 'DT24', 'M2R9', 'ZDEN']\r\n",
        "index_selection = [ curve_list.index(i) for i in log_selection ]\r\n",
        "index_selection"
      ],
      "execution_count": null,
      "outputs": []
    },
    {
      "cell_type": "code",
      "metadata": {
        "id": "TUxx2g7wsP2l"
      },
      "source": [
        "# curve_sub_list = ['GR', 'SP', 'PE', 'DT24', 'M2R9', 'ZDEN']\r\n",
        "# or\r\n",
        "curve_sub_list = list(curve_list[420:]) # slicing the df of curves to avoid running out of RAM\r\n",
        "\r\n",
        "print(curve_sub_list2)\r\n",
        "print(curve_sub_list)\r\n",
        "\r\n",
        "curve_df"
      ],
      "execution_count": null,
      "outputs": []
    },
    {
      "cell_type": "code",
      "metadata": {
        "id": "lYRQreutv6cU"
      },
      "source": [
        "plotlist = [curve_plot(x, df = curve_df, depth_name = 'DEPTH') for x in curve_sub_list]\r\n",
        "well_section = hv.Layout(plotlist).cols(len(curve_sub_list))\r\n",
        "well_section"
      ],
      "execution_count": null,
      "outputs": []
    }
  ]
}