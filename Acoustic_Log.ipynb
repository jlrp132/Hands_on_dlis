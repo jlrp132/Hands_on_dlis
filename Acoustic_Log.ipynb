{
  "nbformat": 4,
  "nbformat_minor": 0,
  "metadata": {
    "colab": {
      "name": "Untitled0.ipynb",
      "provenance": []
    },
    "kernelspec": {
      "name": "python3",
      "display_name": "Python 3"
    }
  },
  "cells": [
    {
      "cell_type": "markdown",
      "metadata": {
        "id": "GRHwRTl62W9w"
      },
      "source": [
        "Code based on Erlend Magnus Viggen, Erlend Hårstad, Jørgen Kvalsvik\r\n",
        "\r\n",
        "**Getting started with acoustic well log data using the dlisio Python library on the Volve Data Village dataset**\r\n",
        "\r\n",
        "https://github.com/equinor/dlisio-notebooks/blob/master/acoustic.ipynb"
      ]
    },
    {
      "cell_type": "code",
      "metadata": {
        "id": "Gdw-kQbM0XFV"
      },
      "source": [
        "from google.colab import drive\r\n",
        "drive.mount('/content/drive')"
      ],
      "execution_count": null,
      "outputs": []
    },
    {
      "cell_type": "code",
      "metadata": {
        "id": "r1IACsdq0jlg"
      },
      "source": [
        "import matplotlib as mpl\r\n",
        "import matplotlib.pyplot as plt\r\n",
        "import dlisio\r\n",
        "import pandas as pd\r\n",
        "import numpy as np\r\n",
        "import scipy.signal as signal\r\n",
        "import logging\r\n",
        "import copy"
      ],
      "execution_count": null,
      "outputs": []
    }
  ]
}